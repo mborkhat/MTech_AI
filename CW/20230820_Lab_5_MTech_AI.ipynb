{
  "cells": [
    {
      "cell_type": "markdown",
      "metadata": {
        "id": "view-in-github",
        "colab_type": "text"
      },
      "source": [
        "<a href=\"https://colab.research.google.com/github/mborkhat/MTech_AI/blob/main/CW/20230820_Lab_5_MTech_AI.ipynb\" target=\"_parent\"><img src=\"https://colab.research.google.com/assets/colab-badge.svg\" alt=\"Open In Colab\"/></a>"
      ]
    },
    {
      "cell_type": "code",
      "execution_count": null,
      "metadata": {
        "colab": {
          "base_uri": "https://localhost:8080/"
        },
        "id": "o7SRR4jcr4_Y",
        "outputId": "6a17df89-2d0a-4c66-a643-39756c3a8cee"
      },
      "outputs": [
        {
          "name": "stdout",
          "output_type": "stream",
          "text": [
            "mkdir: cannot create directory ‘/root/.kaggle’: File exists\n"
          ]
        }
      ],
      "source": [
        "! mkdir ~/.kaggle\n",
        "! cp kaggle.json ~/.kaggle/\n",
        "! chmod 600 ~/.kaggle/kaggle.json"
      ]
    },
    {
      "cell_type": "code",
      "execution_count": null,
      "metadata": {
        "colab": {
          "background_save": true,
          "base_uri": "https://localhost:8080/"
        },
        "id": "txjLsNgBu4Rq",
        "outputId": "692b77f9-30b6-4396-c2c6-ae4f210b986f"
      },
      "outputs": [
        {
          "name": "stdout",
          "output_type": "stream",
          "text": [
            "tensorflow-speech-recognition-challenge.zip: Skipping, found more recently modified local copy (use --force to force download)\n",
            "Archive:  tensorflow-speech-recognition-challenge.zip\n",
            "replace link_to_gcp_credits_form.txt? [y]es, [n]o, [A]ll, [N]one, [r]ename: \n",
            "7-Zip (a) [64] 16.02 : Copyright (c) 1999-2016 Igor Pavlov : 2016-05-21\n",
            "p7zip Version 16.02 (locale=en_US.UTF-8,Utf16=on,HugeFiles=on,64 bits,2 CPUs Intel(R) Xeon(R) CPU @ 2.20GHz (406F0),ASM,AES-NI)\n",
            "\n",
            "Scanning the drive for archives:\n",
            "  0M Scan\b\b\b\b\b\b\b\b\b         \b\b\b\b\b\b\b\b\b1 file, 1121103842 bytes (1070 MiB)\n",
            "\n",
            "Extracting archive: train.7z\n",
            "--\n",
            "Path = train.7z\n",
            "Type = 7z\n",
            "Physical Size = 1121103842\n",
            "Headers Size = 389133\n",
            "Method = Delta LZMA2:24\n",
            "Solid = +\n",
            "Blocks = 2\n",
            "\n",
            "  0%\b\b\b\b    \b\b\b\b\n",
            "Would you like to replace the existing file:\n",
            "  Path:     ./train/LICENSE\n",
            "  Size:     18651 bytes (19 KiB)\n",
            "  Modified: 2017-11-13 21:13:13\n",
            "with the file from archive:\n",
            "  Path:     train/LICENSE\n",
            "  Size:     18651 bytes (19 KiB)\n",
            "  Modified: 2017-11-13 21:13:13\n",
            "? (Y)es / (N)o / (A)lways / (S)kip all / A(u)to rename all / (Q)uit? "
          ]
        }
      ],
      "source": [
        "import os\n",
        "os.environ['KAGGLE_CONFIG_DIR'] = '/root/.kaggle/'\n",
        "!kaggle competitions download -c tensorflow-speech-recognition-challenge\n",
        "!unzip *.zip\n",
        "!7za x 'train.7z'"
      ]
    },
    {
      "cell_type": "code",
      "execution_count": null,
      "metadata": {
        "id": "sxO7R9jRv2eN"
      },
      "outputs": [],
      "source": [
        "import librosa\n",
        "import librosa.display\n",
        "import pandas as pd\n",
        "import numpy as np\n",
        "import matplotlib.pyplot as plt\n",
        "%matplotlib inline\n",
        "import seaborn as sns\n",
        "from sklearn.preprocessing import LabelEncoder\n",
        "import IPython.display as ipd\n",
        "import plotly as py\n",
        "import plotly.graph_objs as go"
      ]
    },
    {
      "cell_type": "code",
      "execution_count": null,
      "metadata": {
        "id": "rsMCn4PLxvF7"
      },
      "outputs": [],
      "source": [
        "files = []\n",
        "target_series = []\n",
        "for dirname, _, filenames in os.walk('/content/train/audio/'):\n",
        "    for filename in filenames:\n",
        "        filepath = os.path.join(dirname, filename)\n",
        "        target = filepath.split('/')[-2]\n",
        "        if target not in '_background_noise_':\n",
        "            target_series.append(target)\n",
        "            files.append(filepath)\n",
        "data = pd.DataFrame(target_series, columns=['target'])\n",
        "data['filename'] = files\n",
        "data = data.sample(frac=1)\n",
        "data = data.reset_index(drop=True)\n",
        "data.head()"
      ]
    },
    {
      "cell_type": "code",
      "execution_count": null,
      "metadata": {
        "id": "2kAjcDH-Tuiy"
      },
      "outputs": [],
      "source": [
        "data.head()"
      ]
    },
    {
      "cell_type": "code",
      "execution_count": null,
      "metadata": {
        "id": "1AYnUk3eza7j"
      },
      "outputs": [],
      "source": [
        "df = pd.DataFrame()\n",
        "for target in data['target'].unique():\n",
        "    df = df.append(data[data['target']==target].sample(150))\n",
        "df = df.sample(frac=1)\n",
        "df = df.reset_index(drop=True)\n",
        "df.head()"
      ]
    },
    {
      "cell_type": "code",
      "execution_count": null,
      "metadata": {
        "id": "p59cHjDd1Yu7"
      },
      "outputs": [],
      "source": [
        "df.shape"
      ]
    },
    {
      "cell_type": "code",
      "execution_count": null,
      "metadata": {
        "id": "S44vZJ-axzK6"
      },
      "outputs": [],
      "source": [
        "def create_mfcc_features(path):\n",
        "    mfccs = []\n",
        "    try:\n",
        "        x , sr = librosa.load(path)\n",
        "        mfccs = librosa.feature.mfcc(y=x, sr=sr, n_mfcc=128)\n",
        "        mfccs = np.mean(mfccs.T,axis=0)\n",
        "    except:\n",
        "        print('Error reading audio')\n",
        "    return mfccs"
      ]
    },
    {
      "cell_type": "code",
      "execution_count": null,
      "metadata": {
        "id": "44D2jd3nyqOK"
      },
      "outputs": [],
      "source": [
        "X_df = pd.DataFrame(df['filename'].apply(lambda x: create_mfcc_features(x)).tolist())"
      ]
    },
    {
      "cell_type": "code",
      "execution_count": null,
      "metadata": {
        "id": "Jotl7dmE2F12"
      },
      "outputs": [],
      "source": [
        "X_df.head()"
      ]
    },
    {
      "cell_type": "markdown",
      "metadata": {
        "id": "rMc1xNkuy2Vz"
      },
      "source": [
        "# MODELS"
      ]
    },
    {
      "cell_type": "code",
      "execution_count": null,
      "metadata": {
        "id": "E27wH3u22Xvy"
      },
      "outputs": [],
      "source": [
        "X_df.shape"
      ]
    },
    {
      "cell_type": "code",
      "execution_count": null,
      "metadata": {
        "id": "30iNMUNU2YgU"
      },
      "outputs": [],
      "source": [
        "encoder = LabelEncoder()\n",
        "encoder.fit(df['target'])\n",
        "y = encoder.transform(df['target'])"
      ]
    },
    {
      "cell_type": "code",
      "execution_count": null,
      "metadata": {
        "id": "X7DUk3002pZV"
      },
      "outputs": [],
      "source": [
        "import tensorflow as tf\n",
        "from sklearn.model_selection import train_test_split\n",
        "from sklearn.metrics import accuracy_score, log_loss, confusion_matrix"
      ]
    },
    {
      "cell_type": "code",
      "execution_count": null,
      "metadata": {
        "id": "dgCM6-772anq"
      },
      "outputs": [],
      "source": [
        "x_train, x_val, y_train, y_val = train_test_split(np.array(X_df), y, test_size=0.10, stratify=y)"
      ]
    },
    {
      "cell_type": "code",
      "execution_count": null,
      "metadata": {
        "id": "KpoJ9JTD2zFh"
      },
      "outputs": [],
      "source": [
        "x_train = x_train.reshape(x_train.shape[0], 16, 8, 1)\n",
        "x_val = x_val.reshape(x_val.shape[0], 16, 8, 1)"
      ]
    },
    {
      "cell_type": "code",
      "execution_count": null,
      "metadata": {
        "id": "K2ENET_s27ne"
      },
      "outputs": [],
      "source": [
        "x_train.shape"
      ]
    },
    {
      "cell_type": "code",
      "execution_count": null,
      "metadata": {
        "id": "ma461J9M29xl"
      },
      "outputs": [],
      "source": [
        "tf.keras.backend.clear_session()\n",
        "model = tf.keras.Sequential([\n",
        "    tf.keras.layers.InputLayer(input_shape=(16, 8, 1)),\n",
        "    tf.keras.layers.Conv2D(filters=16, kernel_size=(3, 3), activation='relu', padding = \"same\"),\n",
        "    tf.keras.layers.MaxPooling2D(2, 2),\n",
        "    tf.keras.layers.Conv2D(filters=8, kernel_size=(3, 3), activation='relu', padding = \"same\"),\n",
        "    tf.keras.layers.MaxPooling2D(2, 2),\n",
        "    tf.keras.layers.Flatten(),\n",
        "    tf.keras.layers.Dense(16, activation='relu'),\n",
        "    tf.keras.layers.Dense(len(data['target'].unique()), activation='softmax')\n",
        "])\n",
        "model.summary()"
      ]
    },
    {
      "cell_type": "code",
      "execution_count": null,
      "metadata": {
        "id": "WleOjoOU3Drb"
      },
      "outputs": [],
      "source": [
        "model.compile(optimizer='adam', loss='sparse_categorical_crossentropy', metrics=['accuracy'])"
      ]
    },
    {
      "cell_type": "code",
      "execution_count": null,
      "metadata": {
        "id": "aMoJS47t3M80"
      },
      "outputs": [],
      "source": [
        "history = model.fit(x_train, y_train, epochs=200)"
      ]
    },
    {
      "cell_type": "code",
      "execution_count": null,
      "metadata": {
        "id": "Awuv0kn43P1T"
      },
      "outputs": [],
      "source": [
        "prob_val = model.predict(x_val)\n",
        "pred_val = np.argmax(prob_val, axis=1)\n",
        "pred_val = encoder.inverse_transform(pred_val)"
      ]
    },
    {
      "cell_type": "code",
      "execution_count": null,
      "metadata": {
        "id": "03Y9xfeJ37uK"
      },
      "outputs": [],
      "source": [
        "sns.heatmap(confusion_matrix(encoder.inverse_transform(y_val), pred_val))"
      ]
    },
    {
      "cell_type": "code",
      "execution_count": null,
      "metadata": {
        "id": "mZ5yx-IhKV1K"
      },
      "outputs": [],
      "source": [
        "# x , sr = librosa.load('/content/my_audio.mp4')\n",
        "# plt.figure(figsize=(20, 5))\n",
        "# plt.title('Waveplot')\n",
        "# librosa.display.waveplot(x, sr=sr)\n",
        "# plt.show()"
      ]
    },
    {
      "cell_type": "code",
      "execution_count": null,
      "metadata": {
        "id": "nTaaGPuRMI_i"
      },
      "outputs": [],
      "source": [
        "x.shape"
      ]
    },
    {
      "cell_type": "code",
      "execution_count": null,
      "metadata": {
        "id": "0YxYP4vzKH-C"
      },
      "outputs": [],
      "source": [
        "total_time = x.shape[0]/sr\n",
        "per_window = x.shape[0]/total_time\n",
        "total_time, per_window"
      ]
    },
    {
      "cell_type": "code",
      "execution_count": null,
      "metadata": {
        "id": "WcE-bZLGLp7d"
      },
      "outputs": [],
      "source": [
        "ipd.Audio('/content/my_audio.mp4')"
      ]
    },
    {
      "cell_type": "code",
      "execution_count": null,
      "metadata": {
        "id": "hOu-4UEE7tWe"
      },
      "outputs": [],
      "source": [
        "x , sr = librosa.load('/content/my_audio.mp4')\n",
        "plt.figure(figsize=(20, 5))\n",
        "plt.title('Waveplot')\n",
        "librosa.display.waveplot(x[int(2.3*per_window):int(2.6*per_window)], sr=sr)\n",
        "plt.show()"
      ]
    },
    {
      "cell_type": "code",
      "execution_count": null,
      "metadata": {
        "id": "Kfn0mRfmKA6K"
      },
      "outputs": [],
      "source": [
        "mfccs = librosa.feature.mfcc(y=x[int(2.3*per_window):int(2.6*per_window)], sr=sr, n_mfcc=128)\n",
        "mfccs = np.mean(mfccs.T,axis=0)"
      ]
    },
    {
      "cell_type": "code",
      "execution_count": null,
      "metadata": {
        "id": "dYGI4toaK2rq"
      },
      "outputs": [],
      "source": [
        "mfccs.shape"
      ]
    },
    {
      "cell_type": "code",
      "execution_count": null,
      "metadata": {
        "id": "JBa00_ZKK3S5"
      },
      "outputs": [],
      "source": [
        "x_test = mfccs.reshape(1, 16, 8, 1)\n",
        "x_test"
      ]
    },
    {
      "cell_type": "code",
      "execution_count": null,
      "metadata": {
        "id": "9PQSAoqdLC6T"
      },
      "outputs": [],
      "source": [
        "prob_val = model.predict(x_test)\n",
        "pred_val = np.argmax(prob_val, axis=1)\n",
        "pred_val = encoder.inverse_transform(pred_val)"
      ]
    },
    {
      "cell_type": "code",
      "execution_count": null,
      "metadata": {
        "id": "hYJCNR4nLWxR"
      },
      "outputs": [],
      "source": [
        "pred_val"
      ]
    },
    {
      "cell_type": "code",
      "execution_count": null,
      "metadata": {
        "id": "2Z4DsrMUAMlP"
      },
      "outputs": [],
      "source": []
    }
  ],
  "metadata": {
    "colab": {
      "provenance": [],
      "include_colab_link": true
    },
    "kernelspec": {
      "display_name": "Python 3",
      "name": "python3"
    },
    "language_info": {
      "name": "python"
    }
  },
  "nbformat": 4,
  "nbformat_minor": 0
}